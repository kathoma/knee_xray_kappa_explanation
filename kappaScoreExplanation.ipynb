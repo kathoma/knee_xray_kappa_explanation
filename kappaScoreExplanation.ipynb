{
 "cells": [
  {
   "cell_type": "code",
   "execution_count": 1,
   "metadata": {},
   "outputs": [],
   "source": [
    "import numpy as np\n",
    "from sklearn.metrics import cohen_kappa_score"
   ]
  },
  {
   "cell_type": "code",
   "execution_count": 2,
   "metadata": {},
   "outputs": [],
   "source": [
    "confusionMatrix = np.array([[1247, 127, 65, 2, 0],\n",
    "                           [324, 177, 146, 9, 0],\n",
    "                           [136, 156, 744, 78, 0],\n",
    "                           [0, 8, 91, 534, 27],\n",
    "                           [0, 0, 0, 31, 188]])"
   ]
  },
  {
   "cell_type": "code",
   "execution_count": 3,
   "metadata": {},
   "outputs": [
    {
     "data": {
      "text/plain": [
       "0.8607341397374665"
      ]
     },
     "execution_count": 3,
     "metadata": {},
     "output_type": "execute_result"
    }
   ],
   "source": [
    "oai = []\n",
    "model = []\n",
    "for i in range(5):\n",
    "    for j in range(5):\n",
    "        count = confusionMatrix[i,j]\n",
    "        for k in range(count):\n",
    "            oai.append(i)\n",
    "            model.append(j)\n",
    "            \n",
    "cohen_kappa_score(oai,model, weights = 'quadratic')"
   ]
  },
  {
   "cell_type": "code",
   "execution_count": null,
   "metadata": {},
   "outputs": [],
   "source": []
  }
 ],
 "metadata": {
  "kernelspec": {
   "display_name": "Python 3",
   "language": "python",
   "name": "python3"
  },
  "language_info": {
   "codemirror_mode": {
    "name": "ipython",
    "version": 3
   },
   "file_extension": ".py",
   "mimetype": "text/x-python",
   "name": "python",
   "nbconvert_exporter": "python",
   "pygments_lexer": "ipython3",
   "version": "3.6.8"
  }
 },
 "nbformat": 4,
 "nbformat_minor": 2
}
